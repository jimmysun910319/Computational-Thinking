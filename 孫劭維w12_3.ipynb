{
  "nbformat": 4,
  "nbformat_minor": 0,
  "metadata": {
    "colab": {
      "name": "孫劭維w12-3",
      "provenance": [],
      "authorship_tag": "ABX9TyPTrRwaDd3lInBr2tkKrW5z",
      "include_colab_link": true
    },
    "kernelspec": {
      "name": "python3",
      "display_name": "Python 3"
    }
  },
  "cells": [
    {
      "cell_type": "markdown",
      "metadata": {
        "id": "view-in-github",
        "colab_type": "text"
      },
      "source": [
        "<a href=\"https://colab.research.google.com/github/jimmysun910319/Computational-Thinking/blob/master/%E5%AD%AB%E5%8A%AD%E7%B6%ADw12_3.ipynb\" target=\"_parent\"><img src=\"https://colab.research.google.com/assets/colab-badge.svg\" alt=\"Open In Colab\"/></a>"
      ]
    },
    {
      "cell_type": "code",
      "metadata": {
        "colab": {
          "base_uri": "https://localhost:8080/"
        },
        "id": "jGSbjf_ItCSx",
        "outputId": "a780e4e2-d70d-49fe-d805-c9610461cbb2"
      },
      "source": [
        "# [0,1,2,3,4]\n",
        "a = range(5)\n",
        "print(a)\n",
        "range(0, 5)\n",
        "print(a[0], a[1], a[2], a[3], a[4])\n",
        "# [2,3,4,5]\n",
        "b = range(2, 6) \n",
        "print(b[0], b[1], b[2], b[3])\n",
        "# [2,5,8]\n",
        "c = range(2, 10, 3)\n",
        "print(c[0], c[1], c[2])\n",
        "#[10,8,6,4]\n",
        "d = range(10, 3, -2)\n",
        "print(d[0], d[1], d[2], d[3])\n"
      ],
      "execution_count": 1,
      "outputs": [
        {
          "output_type": "stream",
          "text": [
            "range(0, 5)\n",
            "0 1 2 3 4\n",
            "2 3 4 5\n",
            "2 5 8\n",
            "10 8 6 4\n"
          ],
          "name": "stdout"
        }
      ]
    }
  ]
}