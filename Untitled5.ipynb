{
  "nbformat": 4,
  "nbformat_minor": 0,
  "metadata": {
    "colab": {
      "name": "Untitled5.ipynb",
      "provenance": [],
      "authorship_tag": "ABX9TyOLEhFSxQWTNtZewy27IzcJ",
      "include_colab_link": true
    },
    "kernelspec": {
      "name": "python3",
      "display_name": "Python 3"
    }
  },
  "cells": [
    {
      "cell_type": "markdown",
      "metadata": {
        "id": "view-in-github",
        "colab_type": "text"
      },
      "source": [
        "<a href=\"https://colab.research.google.com/github/jimmysun910319/Computational-Thinking/blob/master/Untitled5.ipynb\" target=\"_parent\"><img src=\"https://colab.research.google.com/assets/colab-badge.svg\" alt=\"Open In Colab\"/></a>"
      ]
    },
    {
      "cell_type": "code",
      "metadata": {
        "id": "Xo_dI2JDHRX1"
      },
      "source": [
        ""
      ],
      "execution_count": null,
      "outputs": []
    },
    {
      "cell_type": "code",
      "metadata": {
        "id": "EQcVt40CDTgh",
        "colab": {
          "base_uri": "https://localhost:8080/"
        },
        "outputId": "b12c73c7-9a2c-4b00-9fcf-37aa1997fb40"
      },
      "source": [
        "print('哈囉我叫做萬事通~')\r\n",
        "print(\"早上好~\")\r\n",
        "ans=input(\"吃過早餐了嗎?(吃過啦/還沒)\")\r\n",
        "if ans==\"吃過啦\":\r\n",
        "  a=input(\"那你要不要猜我今天早上吃麵包還是麵?\")\r\n",
        "  if a==\"麵包\":\r\n",
        "    cprice = 40\r\n",
        "    gprice=int(input(\"那你猜我吃的麵包多少錢(0~50)\"))\r\n",
        "    while (gprice != cprice):\r\n",
        "      print(\"你猜錯了\")\r\n",
        "      if gprice > cprice :\r\n",
        "        print(\"沒有那麼貴啦!再便宜一點\")\r\n",
        "      else:\r\n",
        "        print(\"你以為這裡是哪裡~麵包沒那麼便宜啦\")\r\n",
        "      gprice=int(input(\"再猜我吃的麵包多少錢(0~50)\"))\r\n",
        "    print(\"好棒喔\",\"正確價錢就是\",cprice)\r\n",
        "  else:\r\n",
        "    print(\"好笨,這樣也猜錯\")\r\n",
        "else:\r\n",
        "  print(\"快去啊!\")"
      ],
      "execution_count": null,
      "outputs": [
        {
          "output_type": "stream",
          "text": [
            "哈囉我叫做萬事通~\n",
            "早上好~\n"
          ],
          "name": "stdout"
        }
      ]
    }
  ]
}