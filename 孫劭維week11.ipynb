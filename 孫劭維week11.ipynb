{
  "nbformat": 4,
  "nbformat_minor": 0,
  "metadata": {
    "colab": {
      "name": "孫劭維week11",
      "provenance": [],
      "authorship_tag": "ABX9TyPcA8a16UO/YbJ7y+I0Bo+G",
      "include_colab_link": true
    },
    "kernelspec": {
      "name": "python3",
      "display_name": "Python 3"
    }
  },
  "cells": [
    {
      "cell_type": "markdown",
      "metadata": {
        "id": "view-in-github",
        "colab_type": "text"
      },
      "source": [
        "<a href=\"https://colab.research.google.com/github/jimmysun910319/Computational-Thinking/blob/master/%E5%AD%AB%E5%8A%AD%E7%B6%ADweek11.ipynb\" target=\"_parent\"><img src=\"https://colab.research.google.com/assets/colab-badge.svg\" alt=\"Open In Colab\"/></a>"
      ]
    },
    {
      "cell_type": "code",
      "metadata": {
        "colab": {
          "base_uri": "https://localhost:8080/"
        },
        "id": "VJk3cICkZlVX",
        "outputId": "457f6411-e521-4bf6-bdcc-c02ce782e8be"
      },
      "source": [
        "# 商數餘數\n",
        "\n",
        "seat=input(\"Enter a seat number?\")\n",
        "seat=int(seat)\n",
        "## Process\n",
        "group=(seat-1)//5+1\n",
        "## Output\n",
        "print(\"Group is\",group)"
      ],
      "execution_count": 3,
      "outputs": [
        {
          "output_type": "stream",
          "text": [
            "Enter a seat number?19\n",
            "Group is 4\n"
          ],
          "name": "stdout"
        }
      ]
    },
    {
      "cell_type": "code",
      "metadata": {
        "colab": {
          "base_uri": "https://localhost:8080/"
        },
        "id": "bQLjALYhc19R",
        "outputId": "5780cedd-87db-4f57-af0e-3f3d0ed9283f"
      },
      "source": [
        "#四捨五入 無條件進位\n",
        "##Input\n",
        "seat=int(input('Enter a seat number?'))\n",
        "##process\n",
        "import math\n",
        "group=math.ceil(seat/5)\n",
        "##Output\n",
        "print('group is',group)\n",
        "\n"
      ],
      "execution_count": 4,
      "outputs": [
        {
          "output_type": "stream",
          "text": [
            "Enter a seat number?12\n",
            "group is 3\n"
          ],
          "name": "stdout"
        }
      ]
    }
  ]
}