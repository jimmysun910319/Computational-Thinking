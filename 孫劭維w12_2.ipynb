{
  "nbformat": 4,
  "nbformat_minor": 0,
  "metadata": {
    "colab": {
      "name": "孫劭維w12-2",
      "provenance": [],
      "authorship_tag": "ABX9TyNch8yu3ppvpbcBrYlO+0mG",
      "include_colab_link": true
    },
    "kernelspec": {
      "name": "python3",
      "display_name": "Python 3"
    }
  },
  "cells": [
    {
      "cell_type": "markdown",
      "metadata": {
        "id": "view-in-github",
        "colab_type": "text"
      },
      "source": [
        "<a href=\"https://colab.research.google.com/github/jimmysun910319/Computational-Thinking/blob/master/%E5%AD%AB%E5%8A%AD%E7%B6%ADw12_2.ipynb\" target=\"_parent\"><img src=\"https://colab.research.google.com/assets/colab-badge.svg\" alt=\"Open In Colab\"/></a>"
      ]
    },
    {
      "cell_type": "code",
      "metadata": {
        "colab": {
          "base_uri": "https://localhost:8080/"
        },
        "id": "oHAAqAWPl49_",
        "outputId": "3a56a6ee-0960-4f07-e244-22d5799052e0"
      },
      "source": [
        "# NBA冠軍賽的六筆資訊\n",
        "season = \"1995-1996\"\n",
        "team = \"Chicago Bulls\"\n",
        "coach = \"Phil Jackson\"\n",
        "records = [72,10]\n",
        "starting =[\"Ron Harper\",\"Michael Jordon\",\"Scottie Pippen\",\"Dennis Rodman\",\"Luc Longley\"]\n",
        "champion = True\n",
        "\n",
        "best_NBA =list((season, team, coach, records, starting,champion))\n",
        "print(best_NBA)\n",
        "\n",
        "print(best_NBA[4])\n",
        "print(best_NBA[-2])\n",
        "print(best_NBA[0:3])\n",
        "\n"
      ],
      "execution_count": 1,
      "outputs": [
        {
          "output_type": "stream",
          "text": [
            "['1995-1996', 'Chicago Bulls', 'Phil Jackson', [72, 10], ['Ron Harper', 'Michael Jordon', 'Scottie Pippen', 'Dennis Rodman', 'Luc Longley'], True]\n",
            "['Ron Harper', 'Michael Jordon', 'Scottie Pippen', 'Dennis Rodman', 'Luc Longley']\n",
            "['Ron Harper', 'Michael Jordon', 'Scottie Pippen', 'Dennis Rodman', 'Luc Longley']\n",
            "['1995-1996', 'Chicago Bulls', 'Phil Jackson']\n"
          ],
          "name": "stdout"
        }
      ]
    }
  ]
}