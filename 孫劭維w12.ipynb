{
  "nbformat": 4,
  "nbformat_minor": 0,
  "metadata": {
    "colab": {
      "name": "孫劭維w12",
      "provenance": [],
      "authorship_tag": "ABX9TyNVRAXhjQUSjUvUV45YX/um",
      "include_colab_link": true
    },
    "kernelspec": {
      "name": "python3",
      "display_name": "Python 3"
    }
  },
  "cells": [
    {
      "cell_type": "markdown",
      "metadata": {
        "id": "view-in-github",
        "colab_type": "text"
      },
      "source": [
        "<a href=\"https://colab.research.google.com/github/jimmysun910319/Computational-Thinking/blob/master/%E5%AD%AB%E5%8A%AD%E7%B6%ADw12.ipynb\" target=\"_parent\"><img src=\"https://colab.research.google.com/assets/colab-badge.svg\" alt=\"Open In Colab\"/></a>"
      ]
    },
    {
      "cell_type": "code",
      "metadata": {
        "colab": {
          "base_uri": "https://localhost:8080/"
        },
        "id": "CVqmGpY2dGRw",
        "outputId": "203597b3-55a9-49c5-c7c6-a49120ae83d6"
      },
      "source": [
        "shoping_list= ['兔肉', '牛肉', '豬肉', '羊肉', '鵝肉']\n",
        "print(shoping_list)\n",
        "print(shoping_list[0])\n",
        "print(shoping_list[1])\n",
        "print(shoping_list[1:3])"
      ],
      "execution_count": 3,
      "outputs": [
        {
          "output_type": "stream",
          "text": [
            "['兔肉', '牛肉', '豬肉', '羊肉', '鵝肉']\n",
            "兔肉\n",
            "牛肉\n",
            "['牛肉', '豬肉']\n"
          ],
          "name": "stdout"
        }
      ]
    }
  ]
}