{
  "nbformat": 4,
  "nbformat_minor": 0,
  "metadata": {
    "colab": {
      "name": "W8Untitled1.ipynb",
      "provenance": [],
      "authorship_tag": "ABX9TyPgTLF2sEMSv/uZgVlVT+a2",
      "include_colab_link": true
    },
    "kernelspec": {
      "name": "python3",
      "display_name": "Python 3"
    }
  },
  "cells": [
    {
      "cell_type": "markdown",
      "metadata": {
        "id": "view-in-github",
        "colab_type": "text"
      },
      "source": [
        "<a href=\"https://colab.research.google.com/github/jimmysun910319/Computational-Thinking/blob/master/W8Untitled1.ipynb\" target=\"_parent\"><img src=\"https://colab.research.google.com/assets/colab-badge.svg\" alt=\"Open In Colab\"/></a>"
      ]
    },
    {
      "cell_type": "code",
      "metadata": {
        "id": "tSL9DMs2k8s-",
        "outputId": "0d9d5eea-02a8-4b5d-c670-fd5358e3f490",
        "colab": {
          "base_uri": "https://localhost:8080/"
        }
      },
      "source": [
        " fir=int(input(\"請輸入第一次期中考成績?\"))"
      ],
      "execution_count": 2,
      "outputs": [
        {
          "output_type": "stream",
          "text": [
            "請輸入第一次期中考成績?75\n"
          ],
          "name": "stdout"
        }
      ]
    },
    {
      "cell_type": "code",
      "metadata": {
        "id": "oDwAfXq5lXTp",
        "outputId": "bc8f5740-79bd-43c7-8bde-58ba55df91df",
        "colab": {
          "base_uri": "https://localhost:8080/"
        }
      },
      "source": [
        "sec=int(input(\"請輸入第二次期中考成績?\"))"
      ],
      "execution_count": 3,
      "outputs": [
        {
          "output_type": "stream",
          "text": [
            "請輸入第二次期中考成績?80\n"
          ],
          "name": "stdout"
        }
      ]
    },
    {
      "cell_type": "code",
      "metadata": {
        "id": "3Zt9rtxSlpbv",
        "outputId": "fe7548bd-56fe-4bb4-90ad-c7fc39d7992d",
        "colab": {
          "base_uri": "https://localhost:8080/"
        }
      },
      "source": [
        "final=int(input(\"請輸入期末考成績?\"))"
      ],
      "execution_count": 5,
      "outputs": [
        {
          "output_type": "stream",
          "text": [
            "請輸入期末考成績?65\n"
          ],
          "name": "stdout"
        }
      ]
    },
    {
      "cell_type": "code",
      "metadata": {
        "id": "taWf234Gl5fC",
        "outputId": "f47ec597-9d4a-4fc2-dda3-de3da3a71760",
        "colab": {
          "base_uri": "https://localhost:8080/"
        }
      },
      "source": [
        "total=(fir)+(sec)+(final)\n",
        "total"
      ],
      "execution_count": 8,
      "outputs": [
        {
          "output_type": "execute_result",
          "data": {
            "text/plain": [
              "220"
            ]
          },
          "metadata": {
            "tags": []
          },
          "execution_count": 8
        }
      ]
    },
    {
      "cell_type": "code",
      "metadata": {
        "id": "Hw7gf2KtogWK",
        "outputId": "6a91e18b-b468-4e17-daf9-954db2c52ed3",
        "colab": {
          "base_uri": "https://localhost:8080/"
        }
      },
      "source": [
        "print(total)"
      ],
      "execution_count": 9,
      "outputs": [
        {
          "output_type": "stream",
          "text": [
            "220\n"
          ],
          "name": "stdout"
        }
      ]
    },
    {
      "cell_type": "code",
      "metadata": {
        "id": "SqBpi2YgowzY"
      },
      "source": [
        "N1=total/3\n"
      ],
      "execution_count": 18,
      "outputs": []
    },
    {
      "cell_type": "code",
      "metadata": {
        "id": "UjH81tpip_Ot",
        "outputId": "dde88b46-d2c1-4fe3-9b4f-8682296c309a",
        "colab": {
          "base_uri": "https://localhost:8080/"
        }
      },
      "source": [
        "print(\"平均\",N1)"
      ],
      "execution_count": 19,
      "outputs": [
        {
          "output_type": "stream",
          "text": [
            "平均 73.33333333333333\n"
          ],
          "name": "stdout"
        }
      ]
    }
  ]
}