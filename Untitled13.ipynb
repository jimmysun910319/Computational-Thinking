{
  "nbformat": 4,
  "nbformat_minor": 0,
  "metadata": {
    "colab": {
      "name": "Untitled13",
      "provenance": [],
      "authorship_tag": "ABX9TyNnKYO2V7OnhUJxBmUoze+F",
      "include_colab_link": true
    },
    "kernelspec": {
      "name": "python3",
      "display_name": "Python 3"
    }
  },
  "cells": [
    {
      "cell_type": "markdown",
      "metadata": {
        "id": "view-in-github",
        "colab_type": "text"
      },
      "source": [
        "<a href=\"https://colab.research.google.com/github/jimmysun910319/Computational-Thinking/blob/master/Untitled13.ipynb\" target=\"_parent\"><img src=\"https://colab.research.google.com/assets/colab-badge.svg\" alt=\"Open In Colab\"/></a>"
      ]
    },
    {
      "cell_type": "code",
      "metadata": {
        "colab": {
          "base_uri": "https://localhost:8080/"
        },
        "id": "sST4XkUqlxsm",
        "outputId": "b701dc22-49d5-4a3d-9de0-a24738d31265"
      },
      "source": [
        "#[2,3,4,5]\r\n",
        "for i in range(2,6,1):\r\n",
        "  print(i)"
      ],
      "execution_count": 1,
      "outputs": [
        {
          "output_type": "stream",
          "text": [
            "2\n",
            "3\n",
            "4\n",
            "5\n"
          ],
          "name": "stdout"
        }
      ]
    },
    {
      "cell_type": "code",
      "metadata": {
        "colab": {
          "base_uri": "https://localhost:8080/"
        },
        "id": "ai2EYTv6mWgm",
        "outputId": "4c647e3f-31d4-4570-c2f2-f224a19e5650"
      },
      "source": [
        "#[100,97,94,91]\r\n",
        "for i in range(100, 90, -3):\r\n",
        "  print(i)\r\n",
        "\r\n"
      ],
      "execution_count": 4,
      "outputs": [
        {
          "output_type": "stream",
          "text": [
            "100\n",
            "97\n",
            "94\n",
            "91\n"
          ],
          "name": "stdout"
        }
      ]
    },
    {
      "cell_type": "code",
      "metadata": {
        "colab": {
          "base_uri": "https://localhost:8080/"
        },
        "id": "IhNrpRrFswoy",
        "outputId": "ac6a3be9-de7f-4de9-c87c-ea484e679a6b"
      },
      "source": [
        "sum = 0\r\n",
        "for i in range(3, 13, 3):\r\n",
        "  sum = sum + i\r\n",
        "print(\"Total is\", sum,)  "
      ],
      "execution_count": 7,
      "outputs": [
        {
          "output_type": "stream",
          "text": [
            "Total is 30\n"
          ],
          "name": "stdout"
        }
      ]
    },
    {
      "cell_type": "code",
      "metadata": {
        "colab": {
          "base_uri": "https://localhost:8080/"
        },
        "id": "Cd3mttaXzA6r",
        "outputId": "08709484-e4a1-43f0-d248-705ad72b2a0c"
      },
      "source": [
        "#加分\r\n",
        "# 給數字串列,將數字串列中的元素加總。\r\n",
        "## 數字串列的初值、終值、遞增值 \r\n",
        "start = int(input('請輸入加總開始值?'))\r\n",
        "end = int(input('請輸入加總終止值?'))\r\n",
        "step = int(input('請輸入遞增減值?'))\r\n",
        "\r\n",
        "\r\n",
        "\r\n",
        "sum = 0 \r\n",
        "for i in range(start, end, step): \r\n",
        "  sum = sum + i \r\n",
        "print('i為', i, '時,累加結果為', sum)"
      ],
      "execution_count": 8,
      "outputs": [
        {
          "output_type": "stream",
          "text": [
            "請輸入加總開始值?10\n",
            "請輸入加總終止值?100\n",
            "請輸入遞增減值?55\n",
            "i為 65 時,累加結果為 75\n"
          ],
          "name": "stdout"
        }
      ]
    },
    {
      "cell_type": "code",
      "metadata": {
        "colab": {
          "base_uri": "https://localhost:8080/"
        },
        "id": "s964IWWjzYzh",
        "outputId": "cf477235-b024-4dc9-9b48-8b857cc3191e"
      },
      "source": [
        "#作業:求數字平方和\r\n",
        "sum=0\r\n",
        "n=int(input('請輸入終止直?'))\r\n",
        "for i in range(1,n):\r\n",
        "  sum=sum+i**2\r\n",
        "print('total',sum)  \r\n"
      ],
      "execution_count": 11,
      "outputs": [
        {
          "output_type": "stream",
          "text": [
            "請輸入終止直?6\n",
            "total 55\n"
          ],
          "name": "stdout"
        }
      ]
    }
  ]
}