{
  "nbformat": 4,
  "nbformat_minor": 0,
  "metadata": {
    "colab": {
      "name": "w10-1",
      "provenance": [],
      "authorship_tag": "ABX9TyNYEe11zcDzmpXjlsNLlFFv",
      "include_colab_link": true
    },
    "kernelspec": {
      "name": "python3",
      "display_name": "Python 3"
    }
  },
  "cells": [
    {
      "cell_type": "markdown",
      "metadata": {
        "id": "view-in-github",
        "colab_type": "text"
      },
      "source": [
        "<a href=\"https://colab.research.google.com/github/jimmysun910319/Computational-Thinking/blob/master/w10_1.ipynb\" target=\"_parent\"><img src=\"https://colab.research.google.com/assets/colab-badge.svg\" alt=\"Open In Colab\"/></a>"
      ]
    },
    {
      "cell_type": "code",
      "metadata": {
        "colab": {
          "base_uri": "https://localhost:8080/"
        },
        "id": "--TH6ZP4b6Th",
        "outputId": "f554e5dd-e034-4a3b-d2ff-625214b27ebc"
      },
      "source": [
        "movie_title=\"tenet\"\n",
        "release_year=\"2020\"\n",
        "movie_time_min=\"150\"\n",
        "director=\"Christopher Edward Nolan\"\n",
        "movie_rating=\"8.2\"\n",
        "print(\"電影英文名稱\",movie_title)\n",
        "print(\"電影年份\",release_year)\n",
        "print(\"電影片長\",movie_time_min)\n",
        "print(\"導演名字\",director)\n",
        "print(\"電影評分\",movie_rating)\n"
      ],
      "execution_count": 4,
      "outputs": [
        {
          "output_type": "stream",
          "text": [
            "電影英文名稱 tenet\n",
            "電影年份 2020\n",
            "電影片長 150\n",
            "導演名字 Christopher Edward Nolan\n",
            "電影評分 8.2\n"
          ],
          "name": "stdout"
        }
      ]
    },
    {
      "cell_type": "code",
      "metadata": {
        "id": "fDlAuvnheEk1"
      },
      "source": [
        ""
      ],
      "execution_count": null,
      "outputs": []
    }
  ]
}