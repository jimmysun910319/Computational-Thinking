{
  "nbformat": 4,
  "nbformat_minor": 0,
  "metadata": {
    "colab": {
      "name": "w8 Untitled1.ipynb",
      "provenance": [],
      "authorship_tag": "ABX9TyMea+6kxvNll7HMkA5uyJQU",
      "include_colab_link": true
    },
    "kernelspec": {
      "name": "python3",
      "display_name": "Python 3"
    }
  },
  "cells": [
    {
      "cell_type": "markdown",
      "metadata": {
        "id": "view-in-github",
        "colab_type": "text"
      },
      "source": [
        "<a href=\"https://colab.research.google.com/github/jimmysun910319/Computational-Thinking/blob/master/w8_Untitled1.ipynb\" target=\"_parent\"><img src=\"https://colab.research.google.com/assets/colab-badge.svg\" alt=\"Open In Colab\"/></a>"
      ]
    },
    {
      "cell_type": "code",
      "metadata": {
        "id": "LaB5dI-af7Ej",
        "outputId": "1d3c7b80-8608-499c-b090-e36221ef7139",
        "colab": {
          "base_uri": "https://localhost:8080/"
        }
      },
      "source": [
        "cans=int(input(\"請輸入購買飲料數量?\"))"
      ],
      "execution_count": 4,
      "outputs": [
        {
          "output_type": "stream",
          "text": [
            "請輸入購買飲料數量?30\n"
          ],
          "name": "stdout"
        }
      ]
    },
    {
      "cell_type": "code",
      "metadata": {
        "id": "JYOiYCZuiqkU"
      },
      "source": [
        "total=(cans//12)*200+(cans%12)*20\n"
      ],
      "execution_count": 6,
      "outputs": []
    },
    {
      "cell_type": "code",
      "metadata": {
        "id": "XfPPOxIFjIYs",
        "outputId": "c56252e4-b974-484b-ac90-26787f1f7903",
        "colab": {
          "base_uri": "https://localhost:8080/"
        }
      },
      "source": [
        "print(\"需花費?\",total)\n"
      ],
      "execution_count": 12,
      "outputs": [
        {
          "output_type": "stream",
          "text": [
            "需花費? 520\n"
          ],
          "name": "stdout"
        }
      ]
    }
  ]
}